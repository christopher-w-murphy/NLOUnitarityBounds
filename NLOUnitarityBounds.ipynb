{
 "cells": [
  {
   "cell_type": "markdown",
   "metadata": {},
   "source": [
    "# NLOUnitarity Bounds"
   ]
  },
  {
   "cell_type": "code",
   "execution_count": 2,
   "metadata": {
    "collapsed": true
   },
   "outputs": [],
   "source": [
    "import numpy as np"
   ]
  },
  {
   "cell_type": "code",
   "execution_count": 7,
   "metadata": {
    "collapsed": true
   },
   "outputs": [],
   "source": [
    "def NLOUnitarityBounds(partialwavematrix, betapartialwavematrix):\n",
    "    \"\"\"NLOUnitarityBounds(partialwavematrix, betapartialwavematrix):\n",
    "Returns a list whose entries are the leading order (LO) and approximate next-to-leading order (NLO) \n",
    "contributions to an eigenvalue of the partial wave matrix of a theory whose scalar sector is $\\phi^4$-like. \n",
    "Please cite arXiv:1502.08511 if you use this notebook.\n",
    "\n",
    "partialwavematrix: the LO partial wave matrix\n",
    "betapartialwavemarix: (the 'beta function contribution' to the partial wave matrix this is simply the LO partial wave \n",
    "matrix where each quartic couplings is replaced with (-3/2) times its beta function)\n",
    "\"\"\"\n",
    "    # LO eigenvalues and eigenvectors\n",
    "    (evals0, evecs0) = np.linalg.eig(partialwavematrix)\n",
    "    \n",
    "    # 'sigma terms' of the NLO eigenvalues\n",
    "    evalssigma = (1j - 1 / np.pi)*evals0**2\n",
    "    \n",
    "    # 'beta terms' of the NLO eigenvalues\n",
    "    # be sure to include the factor of (-3/2) in the definition of betapartialwavematrix\n",
    "    evalsbeta = [np.dot(evecs0.T[i], np.dot(betapartialwavematrix, evecs0.T[i])) for i in range(len(evecs0))]\n",
    "\n",
    "    return np.array([evals0, evalssigma + evalsbeta]).T"
   ]
  },
  {
   "cell_type": "markdown",
   "metadata": {},
   "source": [
    "# Example: 2HDM w/ U(2) symmetry"
   ]
  },
  {
   "cell_type": "markdown",
   "metadata": {},
   "source": [
    "LO partial wave matrices"
   ]
  },
  {
   "cell_type": "code",
   "execution_count": 8,
   "metadata": {
    "collapsed": true
   },
   "outputs": [],
   "source": [
    "def My1s1(l1, l3):\n",
    "    return -l1*np.identity(3)/(16*np.pi)\n",
    "def My1s0(l1, l3):\n",
    "    return -(l1+2*l3)*np.identity(1)/(16*np.pi)\n",
    "def My0s1(l1, l3):\n",
    "    return -np.array([[l1, l1-l3, 0, 0],[l1-l3, l1, 0, 0],[0, 0, l3, 0],[0, 0, 0, l3]])/(16*np.pi)\n",
    "def My0s0(l1, l3):\n",
    "    return -np.array([[3*l1, l1+l3, 0, 0],[l1+l3, 3*l1, 0, 0],[0, 0, 2*l1-l3, 0],[0, 0, 0, 2*l1-l3]])/(16*np.pi)"
   ]
  },
  {
   "cell_type": "markdown",
   "metadata": {
    "collapsed": true
   },
   "source": [
    "Beta Functions"
   ]
  },
  {
   "cell_type": "code",
   "execution_count": 9,
   "metadata": {
    "collapsed": true
   },
   "outputs": [],
   "source": [
    "def betafunctions(l1, l3):\n",
    "    # returns a list with the beta functions for the quartic couplings l1 and l3\n",
    "    return np.array([14*l1**2 + 2*l3**2, 6*l1**2 + 4*l1*l3 + 6*l3**2])/(16*np.pi**2)"
   ]
  },
  {
   "cell_type": "markdown",
   "metadata": {},
   "source": [
    "Beta function contributions to the partial wave matrices (w/ factor of -3/2 included)"
   ]
  },
  {
   "cell_type": "code",
   "execution_count": 10,
   "metadata": {
    "collapsed": true
   },
   "outputs": [],
   "source": [
    "def bMy1s1(l1, l3):\n",
    "    return -(3/2)*My1s1(*betafunctions(l1, l3))\n",
    "def bMy1s0(l1, l3):\n",
    "    return -(3/2)*My1s0(*betafunctions(l1, l3))\n",
    "def bMy0s1(l1, l3):\n",
    "    return -(3/2)*My0s1(*betafunctions(l1, l3))\n",
    "def bMy0s0(l1, l3):\n",
    "    return -(3/2)*My0s0(*betafunctions(l1, l3))"
   ]
  },
  {
   "cell_type": "markdown",
   "metadata": {},
   "source": [
    "# Plot"
   ]
  },
  {
   "cell_type": "markdown",
   "metadata": {},
   "source": [
    "compare against FIG. 1 (a) of arXiv:1502.08511, which was made entirely using Mathematica."
   ]
  },
  {
   "cell_type": "code",
   "execution_count": 190,
   "metadata": {},
   "outputs": [
    {
     "data": {
      "text/plain": [
       "<matplotlib.text.Text at 0x11ae91b38>"
      ]
     },
     "execution_count": 190,
     "metadata": {},
     "output_type": "execute_result"
    },
    {
     "data": {
      "image/png": "[encoded data removed]",
      "text/plain": [
       "<matplotlib.figure.Figure at 0x11ae5a438>"
      ]
     },
     "metadata": {},
     "output_type": "display_data"
    }
   ],
   "source": [
    "import matplotlib\n",
    "\n",
    "%matplotlib inline\n",
    "\n",
    "matplotlib.rc('text', usetex = True)\n",
    "matplotlib.rc('font', family = 'serif')\n",
    "matplotlib.rcParams['xtick.direction'] = 'in'\n",
    "matplotlib.rcParams['ytick.direction'] = 'in'\n",
    "\n",
    "delta = 0.3\n",
    "x = np.arange(-15.0, 15.3, delta)\n",
    "y = np.arange(-15.0, 15.3, delta)\n",
    "X, Y = np.meshgrid(x, y)\n",
    "Z1 = (-(4*X + Y)/(16*np.pi))**2\n",
    "Z2 = ((X - 2*Y)/(16*np.pi))**2\n",
    "Z3 = (-(2*X - Y)/(16*np.pi))**2\n",
    "\n",
    "plt.figure(figsize=(6,6))\n",
    "\n",
    "plt.contourf(X, Y, Z3, [0.25, 100], colors='green', alpha=0.3)\n",
    "plt.contourf(X, Y, Z2, [0.25, 100], colors='orange', alpha=0.3)\n",
    "plt.contourf(X, Y, Z1, [0.25, 100], colors='blue', alpha=0.3)\n",
    "plt.contour(X, Y, Z3, [0.25], colors='green')\n",
    "plt.contour(X, Y, Z2, [0.25], colors='orange')\n",
    "plt.contour(X, Y, Z1, [0.25], colors='blue')\n",
    "\n",
    "plt.title(r\"FIG. 1(a): $\\displaystyle\\frac{1}{4} \\geq \\left(a_0^{(0)}\\right)^2$\", fontsize=14)\n",
    "plt.xlabel(r\"$\\displaystyle\\lambda_1(s)$\", fontsize=16)\n",
    "plt.ylabel(r\"$\\displaystyle\\lambda_3(s)$\", fontsize=16)"
   ]
  }
 ],
 "metadata": {
  "kernelspec": {
   "display_name": "Python 3",
   "language": "python",
   "name": "python3"
  },
  "language_info": {
   "codemirror_mode": {
    "name": "ipython",
    "version": 3
   },
   "file_extension": ".py",
   "mimetype": "text/x-python",
   "name": "python",
   "nbconvert_exporter": "python",
   "pygments_lexer": "ipython3",
   "version": "3.6.1"
  }
 },
 "nbformat": 4,
 "nbformat_minor": 2
}
